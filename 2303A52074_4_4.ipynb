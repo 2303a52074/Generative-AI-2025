{
  "nbformat": 4,
  "nbformat_minor": 0,
  "metadata": {
    "colab": {
      "provenance": [],
      "authorship_tag": "ABX9TyNqCNh82So+GXFg90dcHTW5",
      "include_colab_link": true
    },
    "kernelspec": {
      "name": "python3",
      "display_name": "Python 3"
    },
    "language_info": {
      "name": "python"
    }
  },
  "cells": [
    {
      "cell_type": "markdown",
      "metadata": {
        "id": "view-in-github",
        "colab_type": "text"
      },
      "source": [
        "<a href=\"https://colab.research.google.com/github/2303a52074/Generative-AI-2025/blob/main/2303A52074_4_4.ipynb\" target=\"_parent\"><img src=\"https://colab.research.google.com/assets/colab-badge.svg\" alt=\"Open In Colab\"/></a>"
      ]
    },
    {
      "cell_type": "code",
      "execution_count": 1,
      "metadata": {
        "colab": {
          "base_uri": "https://localhost:8080/"
        },
        "id": "mTsSGVxmKwgH",
        "outputId": "879f4220-06e4-4c7c-e1f6-d6fb98c81230"
      },
      "outputs": [
        {
          "output_type": "stream",
          "name": "stdout",
          "text": [
            "Epoch 0: Loss = 2.2647586091280787\n",
            "Epoch 100: Loss = 0.005454562558711069\n",
            "Epoch 200: Loss = 0.0017763759205847657\n",
            "Epoch 300: Loss = 0.0008011003498461281\n",
            "Epoch 400: Loss = 0.0005297197176283294\n",
            "Epoch 500: Loss = 0.0004437536349185748\n",
            "Epoch 600: Loss = 0.00040745535704782217\n",
            "Epoch 700: Loss = 0.0003849745511273161\n",
            "Epoch 800: Loss = 0.0003667577228257538\n",
            "Epoch 900: Loss = 0.0003502258470292181\n",
            "Test Loss (MSE): 0.0011964816250599774\n",
            "Enter value for x1: 0.2\n",
            "Enter value for x2: 0.8\n",
            "Enter value for x3: 0.9\n",
            "Predicted output: [0.61233726]\n"
          ]
        }
      ],
      "source": [
        "import numpy as np\n",
        "X_train = np.array([[0.1, 0.2, 0.3],\n",
        "                    [0.2, 0.3, 0.4],\n",
        "                    [0.3, 0.4, 0.5],\n",
        "                    [0.5, 0.6, 0.7],\n",
        "                    [0.1, 0.3, 0.5],\n",
        "                    [0.2, 0.4, 0.6],\n",
        "                    [0.3, 0.5, 0.7],\n",
        "                    [0.4, 0.6, 0.8],\n",
        "                    [0.5, 0.7, 0.1]])\n",
        "y_train = np.array([0.14, 0.20, 0.26, 0.38, 0.22, 0.28, 0.34, 0.40, 0.22])\n",
        "X_test = np.array([[0.6, 0.7, 0.8],\n",
        "                   [0.7, 0.8, 0.9]])\n",
        "y_test = np.array([0.44, 0.50])\n",
        "learning_rate = 0.1\n",
        "epochs = 1000\n",
        "weights = np.random.randn(3)\n",
        "bias = np.random.randn(1)\n",
        "def mse_loss(y_true, y_pred):\n",
        "    return np.mean((y_true - y_pred)**2)\n",
        "for epoch in range(epochs):\n",
        "    y_pred = X_train.dot(weights) + bias\n",
        "    loss = mse_loss(y_train, y_pred)\n",
        "    d_loss_w = -2 * X_train.T.dot(y_train - y_pred) / len(y_train)\n",
        "    d_loss_b = -2 * np.sum(y_train - y_pred) / len(y_train)\n",
        "    weights -= learning_rate * d_loss_w\n",
        "    bias -= learning_rate * d_loss_b\n",
        "    if epoch % 100 == 0:\n",
        "        print(f\"Epoch {epoch}: Loss = {loss}\")\n",
        "y_test_pred = X_test.dot(weights) + bias\n",
        "test_loss = mse_loss(y_test, y_test_pred)\n",
        "print(f\"Test Loss (MSE): {test_loss}\")\n",
        "def predict(x1, x2, x3):\n",
        "    return np.dot([x1, x2, x3], weights) + bias\n",
        "x1 = float(input(\"Enter value for x1: \"))\n",
        "x2 = float(input(\"Enter value for x2: \"))\n",
        "x3 = float(input(\"Enter value for x3: \"))\n",
        "output = predict(x1, x2, x3)\n",
        "print(f\"Predicted output: {output}\")"
      ]
    },
    {
      "cell_type": "code",
      "source": [
        "import numpy as np\n",
        "X_train = np.array([[0.1, 0.2, 0.3],\n",
        "                    [0.2, 0.3, 0.4],\n",
        "                    [0.3, 0.4, 0.5],\n",
        "                    [0.5, 0.6, 0.7],\n",
        "                    [0.1, 0.3, 0.5],\n",
        "                    [0.2, 0.4, 0.6],\n",
        "                    [0.3, 0.5, 0.7],\n",
        "                    [0.4, 0.6, 0.8],\n",
        "                    [0.5, 0.7, 0.1]])\n",
        "y_train = np.array([0.5349, 0.5498, 0.5646, 0.5939, 0.5548, 0.5695, 0.5842, 0.5987, 0.5548])\n",
        "X_test = np.array([[0.6, 0.7, 0.8],\n",
        "                   [0.7, 0.8, 0.9]])\n",
        "y_test = np.array([0.6083, 0.6225])\n",
        "def sigmoid(x):\n",
        "    return 1 / (1 + np.exp(-x))\n",
        "def sigmoid_derivative(x):\n",
        "    return x * (1 - x)\n",
        "weights = np.random.randn(3)\n",
        "bias = np.random.randn(1)\n",
        "learning_rate = 0.1\n",
        "epochs = 10000\n",
        "for epoch in range(epochs):\n",
        "    z = np.dot(X_train, weights) + bias\n",
        "    y_pred = sigmoid(z)\n",
        "    error = y_pred - y_train\n",
        "    loss = np.mean(error**2)\n",
        "    d_loss = error\n",
        "    d_sigmoid = sigmoid_derivative(y_pred)\n",
        "    d_loss_w = np.dot(X_train.T, d_loss * d_sigmoid) / len(X_train)\n",
        "    d_loss_b = np.sum(d_loss * d_sigmoid) / len(X_train)\n",
        "    weights -= learning_rate * d_loss_w\n",
        "    bias -= learning_rate * d_loss_b\n",
        "    if epoch % 1000 == 0:\n",
        "        print(f\"Epoch {epoch}, Loss: {loss}\")\n",
        "z_test = np.dot(X_test, weights) + bias\n",
        "y_test_pred = sigmoid(z_test)\n",
        "test_loss = np.mean((y_test - y_test_pred) ** 2)\n",
        "print(f\"Test Loss (MSE): {test_loss}\")\n",
        "def predict(x1, x2, x3):\n",
        "    z = np.dot([x1, x2, x3], weights) + bias\n",
        "    return sigmoid(z)\n",
        "x1 = float(input(\"Enter value for x1: \"))\n",
        "x2 = float(input(\"Enter value for x2: \"))\n",
        "x3 = float(input(\"Enter value for x3: \"))\n",
        "output = predict(x1, x2, x3)\n",
        "print(f\"Predicted output: {output}\")"
      ],
      "metadata": {
        "colab": {
          "base_uri": "https://localhost:8080/"
        },
        "id": "hhT2CDfVK9b1",
        "outputId": "c246aac9-1dcf-4b9a-cf58-94e1041cb6cc"
      },
      "execution_count": 2,
      "outputs": [
        {
          "output_type": "stream",
          "name": "stdout",
          "text": [
            "Epoch 0, Loss: 0.09026937492286992\n",
            "Epoch 1000, Loss: 0.001819862386339214\n",
            "Epoch 2000, Loss: 0.0012743097051500256\n",
            "Epoch 3000, Loss: 0.0009025845731255125\n",
            "Epoch 4000, Loss: 0.0006499204878815339\n",
            "Epoch 5000, Loss: 0.00047831977604368705\n",
            "Epoch 6000, Loss: 0.0003617137955413887\n",
            "Epoch 7000, Loss: 0.00028234263512531225\n",
            "Epoch 8000, Loss: 0.00022815777123089844\n",
            "Epoch 9000, Loss: 0.00019100493087305525\n",
            "Test Loss (MSE): 2.557675822510954e-05\n",
            "Enter value for x1: 0.1\n",
            "Enter value for x2: 0.2\n",
            "Enter value for x3: 0.3\n",
            "Predicted output: [0.55338999]\n"
          ]
        }
      ]
    }
  ]
}