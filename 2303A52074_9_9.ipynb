{
  "cells": [
    {
      "cell_type": "markdown",
      "metadata": {
        "id": "view-in-github",
        "colab_type": "text"
      },
      "source": [
        "<a href=\"https://colab.research.google.com/github/2303a52074/Generative-AI-2025/blob/main/2303A52074_9_9.ipynb\" target=\"_parent\"><img src=\"https://colab.research.google.com/assets/colab-badge.svg\" alt=\"Open In Colab\"/></a>"
      ]
    },
    {
      "cell_type": "code",
      "execution_count": 5,
      "metadata": {
        "id": "jsW_-Gdkl2n-"
      },
      "outputs": [],
      "source": [
        "import numpy as np\n",
        "from tensorflow.keras.datasets import mnist\n",
        "from tensorflow.keras.models import Sequential\n",
        "from tensorflow.keras.layers import Dense, Flatten\n",
        "from tensorflow.keras.utils import to_categorical\n",
        "from tensorflow.keras.optimizers import Adadelta\n",
        "(x_train, y_train), (x_test, y_test) = mnist.load_data()\n",
        "x_train = x_train / 255.0\n",
        "x_test = x_test / 255.0\n",
        "y_train = to_categorical(y_train, 10)\n",
        "y_test = to_categorical(y_test, 10)"
      ]
    },
    {
      "cell_type": "code",
      "execution_count": 6,
      "metadata": {
        "colab": {
          "base_uri": "https://localhost:8080/"
        },
        "id": "uBBKKrUznGQU",
        "outputId": "3f5502cc-3d75-45f8-a269-f990e5a3421a"
      },
      "outputs": [
        {
          "output_type": "stream",
          "name": "stdout",
          "text": [
            "Epoch 1/10\n",
            "\u001b[1m469/469\u001b[0m \u001b[32m━━━━━━━━━━━━━━━━━━━━\u001b[0m\u001b[37m\u001b[0m \u001b[1m5s\u001b[0m 5ms/step - accuracy: 0.1525 - loss: 2.2926 - val_accuracy: 0.1663 - val_loss: 2.2819\n",
            "Epoch 2/10\n",
            "\u001b[1m469/469\u001b[0m \u001b[32m━━━━━━━━━━━━━━━━━━━━\u001b[0m\u001b[37m\u001b[0m \u001b[1m2s\u001b[0m 4ms/step - accuracy: 0.1716 - loss: 2.2805 - val_accuracy: 0.1852 - val_loss: 2.2693\n",
            "Epoch 3/10\n",
            "\u001b[1m469/469\u001b[0m \u001b[32m━━━━━━━━━━━━━━━━━━━━\u001b[0m\u001b[37m\u001b[0m \u001b[1m3s\u001b[0m 5ms/step - accuracy: 0.1891 - loss: 2.2692 - val_accuracy: 0.2038 - val_loss: 2.2573\n",
            "Epoch 4/10\n",
            "\u001b[1m469/469\u001b[0m \u001b[32m━━━━━━━━━━━━━━━━━━━━\u001b[0m\u001b[37m\u001b[0m \u001b[1m2s\u001b[0m 5ms/step - accuracy: 0.2076 - loss: 2.2582 - val_accuracy: 0.2229 - val_loss: 2.2457\n",
            "Epoch 5/10\n",
            "\u001b[1m469/469\u001b[0m \u001b[32m━━━━━━━━━━━━━━━━━━━━\u001b[0m\u001b[37m\u001b[0m \u001b[1m3s\u001b[0m 7ms/step - accuracy: 0.2233 - loss: 2.2471 - val_accuracy: 0.2401 - val_loss: 2.2342\n",
            "Epoch 6/10\n",
            "\u001b[1m469/469\u001b[0m \u001b[32m━━━━━━━━━━━━━━━━━━━━\u001b[0m\u001b[37m\u001b[0m \u001b[1m2s\u001b[0m 5ms/step - accuracy: 0.2382 - loss: 2.2356 - val_accuracy: 0.2558 - val_loss: 2.2228\n",
            "Epoch 7/10\n",
            "\u001b[1m469/469\u001b[0m \u001b[32m━━━━━━━━━━━━━━━━━━━━\u001b[0m\u001b[37m\u001b[0m \u001b[1m2s\u001b[0m 5ms/step - accuracy: 0.2506 - loss: 2.2238 - val_accuracy: 0.2702 - val_loss: 2.2112\n",
            "Epoch 8/10\n",
            "\u001b[1m469/469\u001b[0m \u001b[32m━━━━━━━━━━━━━━━━━━━━\u001b[0m\u001b[37m\u001b[0m \u001b[1m2s\u001b[0m 4ms/step - accuracy: 0.2634 - loss: 2.2145 - val_accuracy: 0.2808 - val_loss: 2.1994\n",
            "Epoch 9/10\n",
            "\u001b[1m469/469\u001b[0m \u001b[32m━━━━━━━━━━━━━━━━━━━━\u001b[0m\u001b[37m\u001b[0m \u001b[1m2s\u001b[0m 5ms/step - accuracy: 0.2793 - loss: 2.2022 - val_accuracy: 0.2915 - val_loss: 2.1873\n",
            "Epoch 10/10\n",
            "\u001b[1m469/469\u001b[0m \u001b[32m━━━━━━━━━━━━━━━━━━━━\u001b[0m\u001b[37m\u001b[0m \u001b[1m3s\u001b[0m 7ms/step - accuracy: 0.2864 - loss: 2.1904 - val_accuracy: 0.3037 - val_loss: 2.1747\n"
          ]
        }
      ],
      "source": [
        "def create_base_model():\n",
        "    model = Sequential([\n",
        "        Flatten(input_shape=(28, 28)),\n",
        "        Dense(32, activation='relu'),\n",
        "        Dense(32, activation='relu'),\n",
        "        Dense(32, activation='relu'),\n",
        "        Dense(10, activation='softmax')\n",
        "    ])\n",
        "    model.compile(optimizer=Adadelta(),\n",
        "                  loss='categorical_crossentropy',\n",
        "                  metrics=['accuracy'])\n",
        "    return model\n",
        "\n",
        "# Train and evaluate base model\n",
        "base_model = create_base_model()\n",
        "history = base_model.fit(x_train, y_train, epochs=10, batch_size=128, verbose=1, validation_data=(x_test, y_test))\n",
        "\n"
      ]
    },
    {
      "cell_type": "code",
      "execution_count": 7,
      "metadata": {
        "colab": {
          "base_uri": "https://localhost:8080/"
        },
        "id": "mpCY2XlonKLQ",
        "outputId": "b11a4f6d-2df6-4d02-8b82-1ea7abb79b0e"
      },
      "outputs": [
        {
          "output_type": "stream",
          "name": "stdout",
          "text": [
            "Training Accuracy: 0.2902\n",
            "Testing Accuracy: 0.3037\n"
          ]
        }
      ],
      "source": [
        "# Training accuracy\n",
        "train_acc = history.history['accuracy'][-1]\n",
        "# Testing accuracy\n",
        "test_acc = history.history['val_accuracy'][-1]\n",
        "\n",
        "print(f\"Training Accuracy: {train_acc:.4f}\")\n",
        "print(f\"Testing Accuracy: {test_acc:.4f}\")"
      ]
    },
    {
      "cell_type": "code",
      "execution_count": 8,
      "metadata": {
        "colab": {
          "base_uri": "https://localhost:8080/"
        },
        "id": "pBfmY8GVnNks",
        "outputId": "43deb726-b6d5-40fc-aced-b3526299e75f"
      },
      "outputs": [
        {
          "output_type": "stream",
          "name": "stdout",
          "text": [
            "\n",
            "Training model with 2 layers, 64 neurons, relu activation\n",
            "Test Accuracy: 0.4747\n",
            "\n",
            "Training model with 3 layers, 128 neurons, relu activation\n",
            "Test Accuracy: 0.6371\n",
            "\n",
            "Training model with 2 layers, 64 neurons, tanh activation\n",
            "Test Accuracy: 0.6485\n",
            "\n",
            "Training model with 3 layers, 128 neurons, sigmoid activation\n",
            "Test Accuracy: 0.0982\n",
            " Best architecture: (2, 64, 'tanh') with accuracy: 0.6485\n"
          ]
        }
      ],
      "source": [
        "def create_tuned_model(hidden_layers=2, neurons=64, activation='relu'):\n",
        "    model = Sequential()\n",
        "    model.add(Flatten(input_shape=(28, 28)))\n",
        "    for _ in range(hidden_layers):\n",
        "        model.add(Dense(neurons, activation=activation))\n",
        "    model.add(Dense(10, activation='softmax'))\n",
        "    model.compile(optimizer=Adadelta(),\n",
        "                  loss='categorical_crossentropy',\n",
        "                  metrics=['accuracy'])\n",
        "    return model\n",
        "\n",
        "# Try a few different configurations\n",
        "configs = [\n",
        "    (2, 64, 'relu'),\n",
        "    (3, 128, 'relu'),\n",
        "    (2, 64, 'tanh'),\n",
        "    (3, 128, 'sigmoid')\n",
        "]\n",
        "\n",
        "best_accuracy = 0\n",
        "best_config = None\n",
        "\n",
        "for hl, n, act in configs:\n",
        "    print(f\"\\nTraining model with {hl} layers, {n} neurons, {act} activation\")\n",
        "    model = create_tuned_model(hidden_layers=hl, neurons=n, activation=act)\n",
        "    history = model.fit(x_train, y_train, epochs=10, batch_size=128, verbose=0, validation_data=(x_test, y_test))\n",
        "    acc = history.history['val_accuracy'][-1]\n",
        "    print(f\"Test Accuracy: {acc:.4f}\")\n",
        "\n",
        "    if acc > best_accuracy:\n",
        "        best_accuracy = acc\n",
        "        best_config = (hl, n, act)\n",
        "\n",
        "print(f\" Best architecture: {best_config} with accuracy: {best_accuracy:.4f}\")"
      ]
    }
  ],
  "metadata": {
    "colab": {
      "provenance": [],
      "authorship_tag": "ABX9TyMqoxS4DgnRAFlEJSMZi++w",
      "include_colab_link": true
    },
    "kernelspec": {
      "display_name": "Python 3",
      "name": "python3"
    },
    "language_info": {
      "name": "python"
    }
  },
  "nbformat": 4,
  "nbformat_minor": 0
}