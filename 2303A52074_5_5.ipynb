{
  "nbformat": 4,
  "nbformat_minor": 0,
  "metadata": {
    "colab": {
      "provenance": [],
      "authorship_tag": "ABX9TyM380ZaCZ94LOQsEimxI7fx",
      "include_colab_link": true
    },
    "kernelspec": {
      "name": "python3",
      "display_name": "Python 3"
    },
    "language_info": {
      "name": "python"
    }
  },
  "cells": [
    {
      "cell_type": "markdown",
      "metadata": {
        "id": "view-in-github",
        "colab_type": "text"
      },
      "source": [
        "<a href=\"https://colab.research.google.com/github/2303a52074/Generative-AI-2025/blob/main/2303A52074_5_5.ipynb\" target=\"_parent\"><img src=\"https://colab.research.google.com/assets/colab-badge.svg\" alt=\"Open In Colab\"/></a>"
      ]
    },
    {
      "cell_type": "code",
      "execution_count": null,
      "metadata": {
        "id": "myoFAM_AFW9L",
        "colab": {
          "base_uri": "https://localhost:8080/"
        },
        "outputId": "cfd591c7-c540-4757-b812-9b555066831e"
      },
      "outputs": [
        {
          "output_type": "stream",
          "name": "stdout",
          "text": [
            "Epoch 0, MSE Loss: 0.7973549694255054\n",
            "Epoch 1000, MSE Loss: 0.0004625758743709078\n",
            "Epoch 2000, MSE Loss: 0.0004615329949797967\n",
            "Epoch 3000, MSE Loss: 0.00046062785227328436\n",
            "Epoch 4000, MSE Loss: 0.00045983126200555376\n",
            "Epoch 5000, MSE Loss: 0.0004591275243619097\n",
            "Epoch 6000, MSE Loss: 0.00045850357965956663\n",
            "Epoch 7000, MSE Loss: 0.0004579485060755144\n",
            "Epoch 8000, MSE Loss: 0.00045745312344676347\n",
            "Epoch 9000, MSE Loss: 0.00045700967859537794\n",
            "Training MSE: 0.0004566115938112446\n",
            "Testing MSE: 3.565800047336586e-05\n"
          ]
        }
      ],
      "source": [
        "import numpy as np\n",
        "def sigmoid(x):\n",
        "    return 1 / (1 + np.exp(-x))\n",
        "def sigmoid_derivative(x):\n",
        "    return x * (1 - x)\n",
        "def mse(y_true, y_pred):\n",
        "    return np.mean((y_true - y_pred) ** 2)\n",
        "train_data = np.array([\n",
        "    [0.1, 0.2, 0.3432],\n",
        "    [0.2, 0.3, 0.3490],\n",
        "    [0.3, 0.4, 0.3548],\n",
        "    [0.6, 0.7, 0.3720],\n",
        "    [0.7, 0.8, 0.3776],\n",
        "    [0.8, 0.9, 0.3832]\n",
        "])\n",
        "X_train = train_data[:, :-1]\n",
        "y_train = train_data[:, -1]\n",
        "test_data = np.array([\n",
        "    [0.4, 0.5, 0.3606],\n",
        "    [0.5, 0.6, 0.3663]\n",
        "])\n",
        "X_test = test_data[:, :-1]\n",
        "y_test = test_data[:, -1]\n",
        "np.random.seed(42)\n",
        "input_size = X_train.shape[1]\n",
        "hidden_size = 3\n",
        "output_size = 1\n",
        "W1 = np.random.randn(input_size, hidden_size)\n",
        "b1 = np.zeros((1, hidden_size))\n",
        "W2 = np.random.randn(hidden_size, output_size)\n",
        "b2 = np.zeros((1, output_size))\n",
        "learning_rate = 0.1\n",
        "epochs = 10000\n",
        "for epoch in range(epochs):\n",
        "    hidden_input = np.dot(X_train, W1) + b1\n",
        "    hidden_output = sigmoid(hidden_input)\n",
        "    final_input = np.dot(hidden_output, W2) + b2\n",
        "    output = final_input\n",
        "    error = (y_train - output.ravel())[:, np.newaxis]\n",
        "    mse_loss = mse(y_train, output)\n",
        "    d_output = error\n",
        "    d_hidden = d_output.dot(W2.T) * sigmoid_derivative(hidden_output)\n",
        "    W2 += hidden_output.T.dot(d_output) * learning_rate\n",
        "    b2 += np.sum(d_output, axis=0, keepdims=True) * learning_rate\n",
        "    W1 += X_train.T.dot(d_hidden) * learning_rate\n",
        "    b1 += np.sum(d_hidden, axis=0, keepdims=True) * learning_rate\n",
        "    if epoch % 1000 == 0:\n",
        "        print(f'Epoch {epoch}, MSE Loss: {mse_loss}')\n",
        "train_output = np.dot(sigmoid(np.dot(X_train, W1) + b1), W2) + b2\n",
        "train_mse = mse(y_train, train_output)\n",
        "print(f'Training MSE: {train_mse}')\n",
        "test_output = np.dot(sigmoid(np.dot(X_test, W1) + b1), W2) + b2\n",
        "test_mse = mse(y_test, test_output)\n",
        "print(f'Testing MSE: {test_mse}')"
      ]
    },
    {
      "cell_type": "code",
      "source": [
        "def predict(x1, x2):\n",
        "    input_data = np.array([[x1, x2]])\n",
        "    hidden_output = sigmoid(np.dot(input_data, W1) + b1)\n",
        "    output = np.dot(hidden_output, W2) + b2\n",
        "    return output[0][0]\n",
        "x1_input = float(input(\"Enter x1: \"))\n",
        "x2_input = float(input(\"Enter x2: \"))\n",
        "prediction = predict(x1_input, x2_input)\n",
        "print(f'Predicted Output for input ({x1_input}, {x2_input}): {prediction}')"
      ],
      "metadata": {
        "colab": {
          "base_uri": "https://localhost:8080/"
        },
        "id": "LRXiOIZNJ2QS",
        "outputId": "66c012fe-009c-4b85-cecd-b9ba56a130a8"
      },
      "execution_count": null,
      "outputs": [
        {
          "output_type": "stream",
          "name": "stdout",
          "text": [
            "Enter x1: 3\n",
            "Enter x2: 2\n",
            "Predicted Output for input (3.0, 2.0): 0.2174028878748341\n"
          ]
        }
      ]
    }
  ]
}