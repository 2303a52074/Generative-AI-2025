{
  "nbformat": 4,
  "nbformat_minor": 0,
  "metadata": {
    "colab": {
      "provenance": [],
      "authorship_tag": "ABX9TyPEsJUXiaGrdBGzi94qJlaf",
      "include_colab_link": true
    },
    "kernelspec": {
      "name": "python3",
      "display_name": "Python 3"
    },
    "language_info": {
      "name": "python"
    }
  },
  "cells": [
    {
      "cell_type": "markdown",
      "metadata": {
        "id": "view-in-github",
        "colab_type": "text"
      },
      "source": [
        "<a href=\"https://colab.research.google.com/github/2303a52074/Generative-AI-2025/blob/main/2303A52074_3_3.ipynb\" target=\"_parent\"><img src=\"https://colab.research.google.com/assets/colab-badge.svg\" alt=\"Open In Colab\"/></a>"
      ]
    },
    {
      "cell_type": "code",
      "execution_count": 7,
      "metadata": {
        "colab": {
          "base_uri": "https://localhost:8080/"
        },
        "id": "do_5ncEd88ra",
        "outputId": "0425be92-74f0-44b5-fb47-d47219ecea42"
      },
      "outputs": [
        {
          "output_type": "stream",
          "name": "stdout",
          "text": [
            "The value of x that minimizes f(x) is approximately: 0.0\n"
          ]
        }
      ],
      "source": [
        "def f(x):\n",
        "    return 5 * x**4 + 3 * x**2 + 10\n",
        "def df(x):\n",
        "    return 20 * x**3 + 6 * x\n",
        "def gradient_descent(learning_rate=0.01, max_iterations=1000, tolerance=1e-6):\n",
        "    x = 0.0\n",
        "    for iteration in range(max_iterations):\n",
        "        gradient = df(x)\n",
        "        x_new = x - learning_rate * gradient\n",
        "        if abs(x_new - x) < tolerance:\n",
        "            break\n",
        "        x = x_new\n",
        "    return x\n",
        "x_min = gradient_descent()\n",
        "print(f\"The value of x that minimizes f(x) is approximately: {x_min}\")"
      ]
    },
    {
      "cell_type": "code",
      "source": [
        "def g(x, y):\n",
        "    return 3 * x**2 + 5 * (2.71**(-y)) + 10\n",
        "def dg_dx(x, y):\n",
        "    return 6 * x\n",
        "def dg_dy(x, y):\n",
        "    return -5 * (2.71**(-y))\n",
        "def gradient_descent(learning_rate=0.01, max_iterations=1000, tolerance=1e-6):\n",
        "    x = 0.0\n",
        "    y = 0.0\n",
        "    for iteration in range(max_iterations):\n",
        "        gradient_x = dg_dx(x, y)\n",
        "        gradient_y = dg_dy(x, y)\n",
        "        x_new = x - learning_rate * gradient_x\n",
        "        y_new = y - learning_rate * gradient_y\n",
        "        if abs(x_new - x) < tolerance and abs(y_new - y) < tolerance:\n",
        "            break\n",
        "        x = x_new\n",
        "        y = y_new\n",
        "    return x, y\n",
        "x_min, y_min = gradient_descent()\n",
        "print(f\"The values of x and y that minimize g(x, y) are approximately: x = {x_min}, y = {y_min}\")"
      ],
      "metadata": {
        "colab": {
          "base_uri": "https://localhost:8080/"
        },
        "id": "rokmQhZwJIXx",
        "outputId": "b2394ac9-36a2-4cb5-9e95-cb02307c5ea8"
      },
      "execution_count": 8,
      "outputs": [
        {
          "output_type": "stream",
          "name": "stdout",
          "text": [
            "The values of x and y that minimize g(x, y) are approximately: x = 0.0, y = 3.942793517866628\n"
          ]
        }
      ]
    },
    {
      "cell_type": "code",
      "source": [
        "def z(x):\n",
        "    return 1 / (1 + 1 / (2.718281828459045**x))\n",
        "def dz_dx(x):\n",
        "    exp_neg_x = 2.718281828459045**(-x)\n",
        "    return exp_neg_x / (1 + exp_neg_x)**2\n",
        "def gradient_descent(learning_rate=0.01, max_iterations=1000, tolerance=1e-6):\n",
        "    x = 0.0\n",
        "    for iteration in range(max_iterations):\n",
        "        gradient = dz_dx(x)\n",
        "        x_new = x - learning_rate * gradient\n",
        "        if abs(x_new - x) < tolerance:\n",
        "            break\n",
        "        x = x_new\n",
        "    return x\n",
        "x_min = gradient_descent()\n",
        "print(f\"The value of x that minimizes z(x) is approximately: {x_min}\")\n"
      ],
      "metadata": {
        "colab": {
          "base_uri": "https://localhost:8080/"
        },
        "id": "S2BK_3YcLXkE",
        "outputId": "d9189a20-6f04-4195-b64f-108c2e3f405c"
      },
      "execution_count": 9,
      "outputs": [
        {
          "output_type": "stream",
          "name": "stdout",
          "text": [
            "The value of x that minimizes z(x) is approximately: -1.8618354629020137\n"
          ]
        }
      ]
    },
    {
      "cell_type": "code",
      "source": [
        "def predicted_output(x, M, C):\n",
        "    return M * x + C\n",
        "def square_error(x, y, M, C):\n",
        "    error = 0\n",
        "    n = len(x)\n",
        "    for i in range(n):\n",
        "        error += (y[i] - predicted_output(x[i], M, C)) ** 2\n",
        "    return error\n",
        "def gradient_M(x, y, M, C):\n",
        "    grad_M = 0\n",
        "    n = len(x)\n",
        "    for i in range(n):\n",
        "        grad_M += -2 * x[i] * (y[i] - predicted_output(x[i], M, C))\n",
        "    return grad_M\n",
        "def gradient_C(x, y, M, C):\n",
        "    grad_C = 0\n",
        "    n = len(x)\n",
        "    for i in range(n):\n",
        "        grad_C += -2 * (y[i] - predicted_output(x[i], M, C))\n",
        "    return grad_C\n",
        "def gradient_descent(x, y, learning_rate=0.01, max_iterations=1000, tolerance=1e-6):\n",
        "    M = 0.0\n",
        "    C = 0.0\n",
        "    for iteration in range(max_iterations):\n",
        "        grad_M = gradient_M(x, y, M, C)\n",
        "        grad_C = gradient_C(x, y, M, C)\n",
        "        M_new = M - learning_rate * grad_M\n",
        "        C_new = C - learning_rate * grad_C\n",
        "        if abs(M_new - M) < tolerance and abs(C_new - C) < tolerance:\n",
        "            break\n",
        "        M = M_new\n",
        "        C = C_new\n",
        "    return M, C\n",
        "x = [1, 2, 3, 4, 5]\n",
        "y = [3, 5, 7, 9, 11]\n",
        "M_optimal, C_optimal = gradient_descent(x, y)\n",
        "print(f\"The optimal values of M and C are: M = {M_optimal}, C = {C_optimal}\")"
      ],
      "metadata": {
        "colab": {
          "base_uri": "https://localhost:8080/"
        },
        "id": "_gBwBgbULaxD",
        "outputId": "5cba1575-a4d6-4edf-953e-cf37e8f6b029"
      },
      "execution_count": 10,
      "outputs": [
        {
          "output_type": "stream",
          "name": "stdout",
          "text": [
            "The optimal values of M and C are: M = 2.000016196262531, C = 0.9999415263532168\n"
          ]
        }
      ]
    }
  ]
}